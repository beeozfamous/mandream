{
 "cells": [
  {
   "cell_type": "code",
   "execution_count": 9,
   "metadata": {},
   "outputs": [],
   "source": [
    "import cv2\n",
    "from PIL import Image\n",
    "import os, sys\n",
    "from tqdm import tqdm\n",
    "from run import process\n",
    "import matplotlib.pyplot as plt"
   ]
  },
  {
   "cell_type": "code",
   "execution_count": 10,
   "metadata": {},
   "outputs": [
    {
     "name": "stderr",
     "output_type": "stream",
     "text": [
      "0it [00:00, ?it/s]\n"
     ]
    }
   ],
   "source": [
    "path = \"sweetwater/\"\n",
    "output_path = \"camoncacem/\"\n",
    "dirs = os.listdir(path)\n",
    "for item in tqdm(dirs):\n",
    "    print(item)\n",
    "    if os.path.isfile(path+item):\n",
    "        dress = cv2.imread(path+item)\n",
    "        watermark, correct, maskref, maskfin = process(dress)\n",
    "        \n",
    "        break\n",
    "        cv2.imwrite(output_path+item, watermark)"
   ]
  },
  {
   "cell_type": "code",
   "execution_count": 11,
   "metadata": {},
   "outputs": [
    {
     "ename": "NameError",
     "evalue": "name 'correct' is not defined",
     "output_type": "error",
     "traceback": [
      "\u001b[0;31m-------------------------------------------------------------------\u001b[0m",
      "\u001b[0;31mNameError\u001b[0m                         Traceback (most recent call last)",
      "\u001b[0;32m<ipython-input-11-f69ecf10ebf8>\u001b[0m in \u001b[0;36m<module>\u001b[0;34m\u001b[0m\n\u001b[0;32m----> 1\u001b[0;31m \u001b[0mplt\u001b[0m\u001b[0;34m.\u001b[0m\u001b[0mimshow\u001b[0m\u001b[0;34m(\u001b[0m\u001b[0mcorrect\u001b[0m\u001b[0;34m)\u001b[0m\u001b[0;34m\u001b[0m\u001b[0;34m\u001b[0m\u001b[0m\n\u001b[0m",
      "\u001b[0;31mNameError\u001b[0m: name 'correct' is not defined"
     ]
    }
   ],
   "source": [
    "plt.imshow(correct)"
   ]
  },
  {
   "cell_type": "code",
   "execution_count": null,
   "metadata": {},
   "outputs": [],
   "source": [
    "plt.imshow(maskref)"
   ]
  },
  {
   "cell_type": "code",
   "execution_count": null,
   "metadata": {},
   "outputs": [],
   "source": [
    "plt.imshow(maskfin)"
   ]
  },
  {
   "cell_type": "code",
   "execution_count": null,
   "metadata": {},
   "outputs": [],
   "source": [
    "plt.imshow(watermark)"
   ]
  },
  {
   "cell_type": "code",
   "execution_count": null,
   "metadata": {},
   "outputs": [],
   "source": []
  },
  {
   "cell_type": "code",
   "execution_count": 1,
   "metadata": {},
   "outputs": [],
   "source": [
    "import firebase_admin\n",
    "from firebase_admin import db\n",
    "from firebase_admin import credentials\n",
    "from firebase_admin import storage\n",
    "import time\n",
    "import cv2\n",
    "from PIL import Image\n",
    "import os, sys\n",
    "from tqdm import tqdm\n",
    "from run import process\n",
    "import datetime\n",
    "import requests\n",
    "import numpy"
   ]
  },
  {
   "cell_type": "code",
   "execution_count": 2,
   "metadata": {},
   "outputs": [],
   "source": [
    "def expand2square(pil_img, background_color):\n",
    "    width, height = pil_img.size\n",
    "    if width == height:\n",
    "        return pil_img\n",
    "    elif width > height:\n",
    "        result = Image.new(pil_img.mode, (width, width), background_color)\n",
    "        result.paste(pil_img, (0, (width - height) // 2))\n",
    "        return result\n",
    "    else:\n",
    "        result = Image.new(pil_img.mode, (height, height), background_color)\n",
    "        result.paste(pil_img, ((height - width) // 2, 0))\n",
    "        return result"
   ]
  },
  {
   "cell_type": "code",
   "execution_count": 3,
   "metadata": {},
   "outputs": [],
   "source": [
    "def listener(event):\n",
    "    #time.sleep(1)\n",
    "    if (\"wanna_nude_queue\" in event.path and event.data['process_Flag']==False):\n",
    "        print(event.data)\n",
    "        an_unnude=str(event.path).rsplit('/', 1)[-1]\n",
    "        new_unnude_path=\"unnude/\"+an_unnude\n",
    "        #blob = bucket.blob(new_unnude_path)\n",
    "        #download_path=blob.generate_signed_url(datetime.timedelta(seconds=300), method='GET')\n",
    "\n",
    "        download_path=event.data['image_url']\n",
    "\n",
    "        print(download_path)\n",
    "        img_data = requests.get(download_path).content\n",
    "        print(\"Download: \",new_unnude_path)\n",
    "        with open(new_unnude_path, 'wb') as handler:\n",
    "            handler.write(img_data)\n",
    "        print(\"Download finished: \",new_unnude_path)\n",
    "\n",
    "        print(\"Start undressing my baby: \",new_unnude_path)\n",
    "\n",
    "        pil_image = Image.open(new_unnude_path).convert(\"RGBA\")\n",
    "        pil_image = expand2square(pil_image, (0, 0, 0, 0))\n",
    "        pil_image = pil_image.resize((512,512), Image.ANTIALIAS).convert('RGB')\n",
    "\n",
    "        open_cv_image = numpy.array(pil_image) \n",
    "        open_cv_image = open_cv_image[:, :, ::-1].copy() \n",
    "\n",
    "        watermark = process(open_cv_image)\n",
    "\n",
    "        print(\"Seeing you naked for the last time: \",new_unnude_path)\n",
    "\n",
    "        new_nude_path=\"nude/\"+an_unnude+\".png\"\n",
    "        im_ready=cv2.imwrite(new_nude_path, watermark)\n",
    "\n",
    "        print(\"And now let her go: \",new_nude_path)\n",
    "\n",
    "        if  im_ready:\n",
    "            im_ready=False\n",
    "            blob = bucket.blob(new_nude_path)\n",
    "            with open(new_nude_path, 'rb') as my_file:\n",
    "                blob.upload_from_file(my_file)\n",
    "            im_ready=True\n",
    "\n",
    "\n",
    "            if im_ready:\n",
    "                blob = bucket.blob(new_nude_path)\n",
    "                download_path = blob.generate_signed_url(datetime.timedelta(seconds=500), method='GET')\n",
    "                print('here')\n",
    "                db.reference().child(str(\"wanna_nude_queue\")).child(str(an_unnude)).update({\n",
    "                    'process_Flag': 'true',\n",
    "                    'image_url': str(download_path),\n",
    "                })\n",
    "                print(\"Bye bye: \",new_nude_path)"
   ]
  },
  {
   "cell_type": "code",
   "execution_count": 4,
   "metadata": {},
   "outputs": [],
   "source": [
    "cred_object = credentials.Certificate(\"/home/mad/developer/real_madness/everyonewillbenaked-firebase-adminsdk-mftjs-12cbfc779f.json\")\n",
    "default_app = firebase_admin.initialize_app(cred_object, {\n",
    "    'databaseURL': 'https://everyonewillbenaked-default-rtdb.asia-southeast1.firebasedatabase.app/',\n",
    "     'storageBucket': 'everyonewillbenaked.appspot.com'\n",
    "})"
   ]
  },
  {
   "cell_type": "code",
   "execution_count": 5,
   "metadata": {},
   "outputs": [],
   "source": [
    "\n",
    "bucket = storage.bucket()"
   ]
  },
  {
   "cell_type": "code",
   "execution_count": 6,
   "metadata": {},
   "outputs": [
    {
     "data": {
      "text/plain": [
       "<firebase_admin.db.ListenerRegistration at 0x7f0f7a9d1d60>"
      ]
     },
     "execution_count": 6,
     "metadata": {},
     "output_type": "execute_result"
    },
    {
     "name": "stdout",
     "output_type": "stream",
     "text": [
      "{'created_time': '12/23/2021, 12:39:04 PM', 'file_name': '401b2c42e8fc23a27aed.jpg', 'image_url': 'https://firebasestorage.googleapis.com/v0/b/everyonewillbenaked.appspot.com/o/unnude%2F1640237943244-401b2c42e8fc23a27aed.jpg?alt=media&token=3cb2fbef-d3ae-4478-a687-78e912614f15', 'process_Flag': False}\n",
      "https://firebasestorage.googleapis.com/v0/b/everyonewillbenaked.appspot.com/o/unnude%2F1640237943244-401b2c42e8fc23a27aed.jpg?alt=media&token=3cb2fbef-d3ae-4478-a687-78e912614f15\n"
     ]
    }
   ],
   "source": [
    "\n",
    "\n",
    "firebase_admin.db.reference('/').listen(listener)"
   ]
  },
  {
   "cell_type": "code",
   "execution_count": 8,
   "metadata": {},
   "outputs": [
    {
     "name": "stdout",
     "output_type": "stream",
     "text": [
      "here\n"
     ]
    }
   ],
   "source": [
    "print(\"here\")"
   ]
  },
  {
   "cell_type": "code",
   "execution_count": 9,
   "metadata": {},
   "outputs": [
    {
     "name": "stdout",
     "output_type": "stream",
     "text": [
      "Executing phase: mask_to_maskref\n",
      "Executing phase: maskref_to_maskdet\n",
      "Executing phase: maskdet_to_maskfin\n",
      "Executing phase: maskfin_to_nude\n",
      "Executing phase: nude_to_watermark\n",
      "Seeing you naked for the last time:  unnude/-Mr_nBxwRcFHyFsnqzPx\n",
      "And now let her go:  nude/-Mr_nBxwRcFHyFsnqzPx.png\n",
      "Download:  sample.jpg\n"
     ]
    }
   ],
   "source": []
  },
  {
   "cell_type": "code",
   "execution_count": 13,
   "metadata": {},
   "outputs": [],
   "source": [
    "from selenium import webdriver\n",
    "chrome_options = webdriver.ChromeOptions()"
   ]
  },
  {
   "cell_type": "code",
   "execution_count": 47,
   "metadata": {},
   "outputs": [],
   "source": [
    "\n",
    "\n",
    "path='https://firebasestorage.googleapis.com/v0/b/everyonewillbenaked.appspot.com/o/unnude%2F1640237943244-401b2c42e8fc23a27aed.jpg?alt=media&token=3cb2fbef-d3ae-4478-a687-78e912614f15'\n",
    "path='https://scontent.fvca1-1.fna.fbcdn.net/v/t1.15752-9/267214917_466184458271652_1339974789014658115_n.jpg?_nc_cat=105&ccb=1-5&_nc_sid=ae9488&_nc_ohc=1J1UMzudd4gAX_YThOD&_nc_ht=scontent.fvca1-1.fna&oh=03_AVIXXZ-omgwToCJlIIVu1USc-UwxLMHmUEMo0pLk-Ifftw&oe=61E98CA8'"
   ]
  },
  {
   "cell_type": "code",
   "execution_count": 48,
   "metadata": {},
   "outputs": [
    {
     "name": "stderr",
     "output_type": "stream",
     "text": [
      "<ipython-input-48-85bef511e85e>:3: DeprecationWarning: executable_path has been deprecated, please pass in a Service object\n",
      "  driver = webdriver.Chrome(executable_path='/home/mad/developer/real_madness/deepnude_official/chromedriver',chrome_options=chrome_options)\n",
      "<ipython-input-48-85bef511e85e>:3: DeprecationWarning: use options instead of chrome_options\n",
      "  driver = webdriver.Chrome(executable_path='/home/mad/developer/real_madness/deepnude_official/chromedriver',chrome_options=chrome_options)\n"
     ]
    }
   ],
   "source": [
    "prefs = {'download.default_directory' : '.',}\n",
    "chrome_options.add_experimental_option('prefs', prefs)\n",
    "driver = webdriver.Chrome(executable_path='/home/mad/developer/real_madness/deepnude_official/chromedriver',chrome_options=chrome_options)\n",
    "driver.get(path)\n",
    "#driver.close()"
   ]
  },
  {
   "cell_type": "code",
   "execution_count": 53,
   "metadata": {},
   "outputs": [],
   "source": [
    "headers = {\n",
    "    'User-Agent': 'Mozilla/5.0 (Windows NT 10.0; Win64; x64) AppleWebKit/537.36 (KHTML, like Gecko) Chrome/74.0.3729.169 Safari/537.36'\n",
    "}"
   ]
  },
  {
   "cell_type": "code",
   "execution_count": 57,
   "metadata": {},
   "outputs": [
    {
     "name": "stdout",
     "output_type": "stream",
     "text": [
      "Download:  sample.jpg\n",
      "{'created_time': '12/23/2021, 3:06:56 PM', 'file_name': '262547151_4481363548626241_3717872299290686479_n copy (1).png', 'image_url': 'https://firebasestorage.googleapis.com/v0/b/everyonewillbenaked.appspot.com/o/unnude%2F1640246814175-262547151_4481363548626241_3717872299290686479_n%20copy%20(1).png?alt=media&token=54afac21-cdf7-41da-b651-e527e671cac0', 'process_Flag': False}\n",
      "https://firebasestorage.googleapis.com/v0/b/everyonewillbenaked.appspot.com/o/unnude%2F1640246814175-262547151_4481363548626241_3717872299290686479_n%20copy%20(1).png?alt=media&token=54afac21-cdf7-41da-b651-e527e671cac0\n"
     ]
    },
    {
     "name": "stderr",
     "output_type": "stream",
     "text": [
      "Exception in thread Thread-4:\n",
      "Traceback (most recent call last):\n",
      "  File \"/home/mad/anaconda3/lib/python3.8/site-packages/urllib3/connection.py\", line 159, in _new_conn\n",
      "    conn = connection.create_connection(\n",
      "  File \"/home/mad/anaconda3/lib/python3.8/site-packages/urllib3/util/connection.py\", line 61, in create_connection\n",
      "    for res in socket.getaddrinfo(host, port, family, socket.SOCK_STREAM):\n",
      "  File \"/home/mad/anaconda3/lib/python3.8/socket.py\", line 918, in getaddrinfo\n",
      "    for res in _socket.getaddrinfo(host, port, family, type, proto, flags):\n",
      "socket.gaierror: [Errno -2] Name or service not known\n",
      "\n",
      "During handling of the above exception, another exception occurred:\n",
      "\n",
      "Traceback (most recent call last):\n",
      "  File \"/home/mad/anaconda3/lib/python3.8/site-packages/urllib3/connectionpool.py\", line 670, in urlopen\n",
      "    httplib_response = self._make_request(\n",
      "  File \"/home/mad/anaconda3/lib/python3.8/site-packages/urllib3/connectionpool.py\", line 381, in _make_request\n",
      "    self._validate_conn(conn)\n",
      "  File \"/home/mad/anaconda3/lib/python3.8/site-packages/urllib3/connectionpool.py\", line 978, in _validate_conn\n",
      "    conn.connect()\n",
      "  File \"/home/mad/anaconda3/lib/python3.8/site-packages/urllib3/connection.py\", line 309, in connect\n",
      "    conn = self._new_conn()\n",
      "  File \"/home/mad/anaconda3/lib/python3.8/site-packages/urllib3/connection.py\", line 171, in _new_conn\n",
      "    raise NewConnectionError(\n",
      "urllib3.exceptions.NewConnectionError: <urllib3.connection.HTTPSConnection object at 0x7f0f7156d2b0>: Failed to establish a new connection: [Errno -2] Name or service not known\n",
      "\n",
      "During handling of the above exception, another exception occurred:\n",
      "\n",
      "Traceback (most recent call last):\n",
      "  File \"/home/mad/anaconda3/lib/python3.8/site-packages/requests/adapters.py\", line 439, in send\n",
      "    resp = conn.urlopen(\n",
      "  File \"/home/mad/anaconda3/lib/python3.8/site-packages/urllib3/connectionpool.py\", line 726, in urlopen\n",
      "    retries = retries.increment(\n",
      "  File \"/home/mad/anaconda3/lib/python3.8/site-packages/urllib3/util/retry.py\", line 446, in increment\n",
      "    raise MaxRetryError(_pool, url, error or ResponseError(cause))\n",
      "urllib3.exceptions.MaxRetryError: HTTPSConnectionPool(host='firebasestorage.googleapis.com', port=443): Max retries exceeded with url: /v0/b/everyonewillbenaked.appspot.com/o/unnude%2F1640246814175-262547151_4481363548626241_3717872299290686479_n%20copy%20(1).png?alt=media&token=54afac21-cdf7-41da-b651-e527e671cac0 (Caused by NewConnectionError('<urllib3.connection.HTTPSConnection object at 0x7f0f7156d2b0>: Failed to establish a new connection: [Errno -2] Name or service not known'))\n",
      "\n",
      "During handling of the above exception, another exception occurred:\n",
      "\n",
      "Traceback (most recent call last):\n",
      "  File \"/home/mad/anaconda3/lib/python3.8/threading.py\", line 932, in _bootstrap_inner\n",
      "    self.run()\n",
      "  File \"/home/mad/anaconda3/lib/python3.8/threading.py\", line 870, in run\n",
      "    self._target(*self._args, **self._kwargs)\n",
      "  File \"/home/mad/anaconda3/lib/python3.8/site-packages/firebase_admin/db.py\", line 128, in _start_listen\n",
      "    self._callback(Event(sse_event))\n",
      "  File \"<ipython-input-3-7f90e5739332>\", line 13, in listener\n",
      "  File \"/home/mad/anaconda3/lib/python3.8/site-packages/requests/api.py\", line 76, in get\n",
      "    \n",
      "  File \"/home/mad/anaconda3/lib/python3.8/site-packages/requests/api.py\", line 61, in request\n",
      "    return session.request(method=method, url=url, **kwargs)\n",
      "  File \"/home/mad/anaconda3/lib/python3.8/site-packages/requests/sessions.py\", line 530, in request\n",
      "    proxies = proxies or {}\n",
      "  File \"/home/mad/anaconda3/lib/python3.8/site-packages/requests/sessions.py\", line 643, in send\n",
      "    # Set up variables needed for resolve_redirects and dispatching of hooks\n",
      "  File \"/home/mad/anaconda3/lib/python3.8/site-packages/requests/adapters.py\", line 516, in send\n",
      "    raise ConnectionError(e, request=request)\n",
      "requests.exceptions.ConnectionError: HTTPSConnectionPool(host='firebasestorage.googleapis.com', port=443): Max retries exceeded with url: /v0/b/everyonewillbenaked.appspot.com/o/unnude%2F1640246814175-262547151_4481363548626241_3717872299290686479_n%20copy%20(1).png?alt=media&token=54afac21-cdf7-41da-b651-e527e671cac0 (Caused by NewConnectionError('<urllib3.connection.HTTPSConnection object at 0x7f0f7156d2b0>: Failed to establish a new connection: [Errno -2] Name or service not known'))\n"
     ]
    }
   ],
   "source": [
    "img_data = requests.get(path,stream=True,allow_redirects=False, headers=headers).content\n",
    "print(\"Download: \",\"sample.jpg\")\n",
    "with open(\"sample.jpg\", 'wb') as handler:\n",
    "    handler.write(img_data)"
   ]
  },
  {
   "cell_type": "code",
   "execution_count": null,
   "metadata": {},
   "outputs": [],
   "source": []
  },
  {
   "cell_type": "code",
   "execution_count": null,
   "metadata": {},
   "outputs": [],
   "source": []
  },
  {
   "cell_type": "code",
   "execution_count": null,
   "metadata": {},
   "outputs": [],
   "source": []
  },
  {
   "cell_type": "code",
   "execution_count": null,
   "metadata": {},
   "outputs": [],
   "source": []
  },
  {
   "cell_type": "code",
   "execution_count": null,
   "metadata": {},
   "outputs": [],
   "source": []
  },
  {
   "cell_type": "code",
   "execution_count": null,
   "metadata": {},
   "outputs": [],
   "source": []
  }
 ],
 "metadata": {
  "kernelspec": {
   "display_name": "Python 3",
   "language": "python",
   "name": "python3"
  },
  "language_info": {
   "codemirror_mode": {
    "name": "ipython",
    "version": 3
   },
   "file_extension": ".py",
   "mimetype": "text/x-python",
   "name": "python",
   "nbconvert_exporter": "python",
   "pygments_lexer": "ipython3",
   "version": "3.8.5"
  }
 },
 "nbformat": 4,
 "nbformat_minor": 4
}
